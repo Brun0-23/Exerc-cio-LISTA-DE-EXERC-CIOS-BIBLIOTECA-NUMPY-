{
 "cells": [
  {
   "cell_type": "markdown",
   "id": "9cc32f8c-5760-48b4-87c8-db23d1369363",
   "metadata": {},
   "source": [
    "## LISTA DE EXERCÍCIOS\n",
    "## BIBLIOTECA NUMPY\n"
   ]
  },
  {
   "cell_type": "code",
   "execution_count": 31,
   "id": "482b83fb-06c7-47ee-bdb6-27d637264fff",
   "metadata": {},
   "outputs": [
    {
     "name": "stdout",
     "output_type": "stream",
     "text": [
      "[ 3.  5.  9. 16. 25.]\n"
     ]
    }
   ],
   "source": [
    "#1-Converta os elementos do array [3, 5, 9, 16, 25] para float.\n",
    "import numpy as np\n",
    "\n",
    "array_float = np.array([3, 5, 9, 16, 25], dtype = np.float64)\n",
    "print(array_float)"
   ]
  },
  {
   "cell_type": "code",
   "execution_count": 20,
   "id": "e36e3503-6609-4e2a-8cf9-d4d5072cffce",
   "metadata": {},
   "outputs": [
    {
     "name": "stdout",
     "output_type": "stream",
     "text": [
      "[ 1 -3  8 16]\n"
     ]
    }
   ],
   "source": [
    "#2-Dado o array [1.2, -3.6, 8.99999, 16.1], converta os seus elementos para int.\n",
    "array_int = np.array([1.2, -3.6, 8.99999, 16.1], dtype = np.int32)\n",
    "print(array_int)"
   ]
  },
  {
   "cell_type": "code",
   "execution_count": 37,
   "id": "8b2a8daf-7377-45fe-87ec-59681b14c5e1",
   "metadata": {},
   "outputs": [
    {
     "name": "stdout",
     "output_type": "stream",
     "text": [
      "[[0 0 0 0 0 0 0 0 0]\n",
      " [0 0 0 0 0 0 0 0 0]\n",
      " [0 0 0 0 0 0 0 0 0]]\n"
     ]
    }
   ],
   "source": [
    "#3-Crie uma matriz 3x9 contendo apenas elementos com valor zero.\n",
    "matriz_int = np.zeros([3, 9], dtype = np.int32)\n",
    "print(matriz_zero_int)"
   ]
  },
  {
   "cell_type": "code",
   "execution_count": 45,
   "id": "b4366ec6-bbb6-4bda-80c5-bb445b2a46d9",
   "metadata": {},
   "outputs": [
    {
     "name": "stdout",
     "output_type": "stream",
     "text": [
      "[[1 1 1 1 1 1 1]\n",
      " [1 1 1 1 1 1 1]\n",
      " [1 1 1 1 1 1 1]\n",
      " [1 1 1 1 1 1 1]\n",
      " [1 1 1 1 1 1 1]\n",
      " [1 1 1 1 1 1 1]]\n"
     ]
    }
   ],
   "source": [
    "#Crie uma matriz 6x7 de números inteiros contendo elementos com valor 1.\n",
    "matriz_one_int = np.ones([6, 7], dtype = np.int32)\n",
    "print(matriz_one_int)"
   ]
  },
  {
   "cell_type": "code",
   "execution_count": 49,
   "id": "00fdf9c4-8971-4a3b-aa43-6c9c91483894",
   "metadata": {},
   "outputs": [
    {
     "name": "stdout",
     "output_type": "stream",
     "text": [
      "[[1. 0. 0. 0.]\n",
      " [0. 1. 0. 0.]\n",
      " [0. 0. 1. 0.]\n",
      " [0. 0. 0. 1.]]\n"
     ]
    }
   ],
   "source": [
    "#5-Crie uma matriz identidade de tamanho 4.\n",
    "matriz_5 = np.eye(4)\n",
    "print(matriz_5)"
   ]
  },
  {
   "cell_type": "code",
   "execution_count": 53,
   "id": "6f94c7fd-238e-4e2c-b5d8-14de3cc2bc69",
   "metadata": {},
   "outputs": [
    {
     "name": "stdout",
     "output_type": "stream",
     "text": [
      "[0.06405985 0.66174994 0.72629407 0.06481335 0.82017688]\n"
     ]
    }
   ],
   "source": [
    "#6-Crie um array de números aleatórios entre 0 e 1 de tamanho 5.\n",
    "array_6 = np.random.random(5)\n",
    "print(array_6)"
   ]
  },
  {
   "cell_type": "code",
   "execution_count": 73,
   "id": "61281687-f204-484d-a393-db1b376cca68",
   "metadata": {},
   "outputs": [
    {
     "name": "stdout",
     "output_type": "stream",
     "text": [
      "[[2 0 2 0 3 1]\n",
      " [3 1 1 4 5 4]\n",
      " [5 5 2 1 4 1]]\n"
     ]
    }
   ],
   "source": [
    "#7-Crie uma matriz 3x6 contendo números aleatórios de 0 a 5 (0, 1, 2, 3, 4, 5).\n",
    "matriz_7 = np.random.randint(6, size = (3,6)) \n",
    "print(matriz_7)"
   ]
  },
  {
   "cell_type": "code",
   "execution_count": null,
   "id": "61a87eaa-410a-4ec8-85e7-2e6152493e5c",
   "metadata": {},
   "outputs": [],
   "source": []
  }
 ],
 "metadata": {
  "kernelspec": {
   "display_name": "Python [conda env:base] *",
   "language": "python",
   "name": "conda-base-py"
  },
  "language_info": {
   "codemirror_mode": {
    "name": "ipython",
    "version": 3
   },
   "file_extension": ".py",
   "mimetype": "text/x-python",
   "name": "python",
   "nbconvert_exporter": "python",
   "pygments_lexer": "ipython3",
   "version": "3.12.7"
  }
 },
 "nbformat": 4,
 "nbformat_minor": 5
}
